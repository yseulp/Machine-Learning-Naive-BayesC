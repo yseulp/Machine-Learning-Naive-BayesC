{
 "cells": [
  {
   "cell_type": "code",
   "execution_count": 1,
   "id": "2f02b9e8",
   "metadata": {
    "_cell_guid": "b1076dfc-b9ad-4769-8c92-a6c4dae69d19",
    "_uuid": "8f2839f25d086af736a60e9eeb907d3b93b6e0e5",
    "execution": {
     "iopub.execute_input": "2023-02-01T21:15:59.225223Z",
     "iopub.status.busy": "2023-02-01T21:15:59.224618Z",
     "iopub.status.idle": "2023-02-01T21:15:59.247219Z",
     "shell.execute_reply": "2023-02-01T21:15:59.245842Z"
    },
    "papermill": {
     "duration": 0.033194,
     "end_time": "2023-02-01T21:15:59.250026",
     "exception": false,
     "start_time": "2023-02-01T21:15:59.216832",
     "status": "completed"
    },
    "tags": []
   },
   "outputs": [
    {
     "name": "stdout",
     "output_type": "stream",
     "text": [
      "/kaggle/input/titanic/train.csv\n",
      "/kaggle/input/titanic/test.csv\n",
      "/kaggle/input/titanic/gender_submission.csv\n"
     ]
    }
   ],
   "source": [
    "# This Python 3 environment comes with many helpful analytics libraries installed\n",
    "# It is defined by the kaggle/python Docker image: https://github.com/kaggle/docker-python\n",
    "# For example, here's several helpful packages to load\n",
    "\n",
    "import numpy as np # linear algebra\n",
    "import pandas as pd # data processing, CSV file I/O (e.g. pd.read_csv)\n",
    "\n",
    "# Input data files are available in the read-only \"../input/\" directory\n",
    "# For example, running this (by clicking run or pressing Shift+Enter) will list all files under the input directory\n",
    "\n",
    "import os\n",
    "for dirname, _, filenames in os.walk('/kaggle/input'):\n",
    "    for filename in filenames:\n",
    "        print(os.path.join(dirname, filename))\n",
    "\n",
    "# You can write up to 20GB to the current directory (/kaggle/working/) that gets preserved as output when you create a version using \"Save & Run All\" \n",
    "# You can also write temporary files to /kaggle/temp/, but they won't be saved outside of the current session"
   ]
  },
  {
   "cell_type": "markdown",
   "id": "c20a6103",
   "metadata": {
    "papermill": {
     "duration": 0.004308,
     "end_time": "2023-02-01T21:15:59.258861",
     "exception": false,
     "start_time": "2023-02-01T21:15:59.254553",
     "status": "completed"
    },
    "tags": []
   },
   "source": [
    "In diesem Notebook erstelle ich auf Basis des Titanic-Datasets einen Naive-Bayes-Alogrithmus, der vorhersieht, ob eine Person das tragische Titanicunglück überleben würde."
   ]
  },
  {
   "cell_type": "code",
   "execution_count": 2,
   "id": "83bac380",
   "metadata": {
    "execution": {
     "iopub.execute_input": "2023-02-01T21:15:59.269566Z",
     "iopub.status.busy": "2023-02-01T21:15:59.269158Z",
     "iopub.status.idle": "2023-02-01T21:15:59.294184Z",
     "shell.execute_reply": "2023-02-01T21:15:59.293215Z"
    },
    "papermill": {
     "duration": 0.03379,
     "end_time": "2023-02-01T21:15:59.296965",
     "exception": false,
     "start_time": "2023-02-01T21:15:59.263175",
     "status": "completed"
    },
    "tags": []
   },
   "outputs": [],
   "source": [
    "#Herunterladen des Datensets\n",
    "df = pd.read_csv(\"/kaggle/input/titanic/train.csv\")"
   ]
  },
  {
   "cell_type": "code",
   "execution_count": 3,
   "id": "aab7b390",
   "metadata": {
    "execution": {
     "iopub.execute_input": "2023-02-01T21:15:59.308097Z",
     "iopub.status.busy": "2023-02-01T21:15:59.306967Z",
     "iopub.status.idle": "2023-02-01T21:15:59.333023Z",
     "shell.execute_reply": "2023-02-01T21:15:59.331785Z"
    },
    "papermill": {
     "duration": 0.034172,
     "end_time": "2023-02-01T21:15:59.335527",
     "exception": false,
     "start_time": "2023-02-01T21:15:59.301355",
     "status": "completed"
    },
    "tags": []
   },
   "outputs": [
    {
     "data": {
      "text/html": [
       "<div>\n",
       "<style scoped>\n",
       "    .dataframe tbody tr th:only-of-type {\n",
       "        vertical-align: middle;\n",
       "    }\n",
       "\n",
       "    .dataframe tbody tr th {\n",
       "        vertical-align: top;\n",
       "    }\n",
       "\n",
       "    .dataframe thead th {\n",
       "        text-align: right;\n",
       "    }\n",
       "</style>\n",
       "<table border=\"1\" class=\"dataframe\">\n",
       "  <thead>\n",
       "    <tr style=\"text-align: right;\">\n",
       "      <th></th>\n",
       "      <th>PassengerId</th>\n",
       "      <th>Survived</th>\n",
       "      <th>Pclass</th>\n",
       "      <th>Name</th>\n",
       "      <th>Sex</th>\n",
       "      <th>Age</th>\n",
       "      <th>SibSp</th>\n",
       "      <th>Parch</th>\n",
       "      <th>Ticket</th>\n",
       "      <th>Fare</th>\n",
       "      <th>Cabin</th>\n",
       "      <th>Embarked</th>\n",
       "    </tr>\n",
       "  </thead>\n",
       "  <tbody>\n",
       "    <tr>\n",
       "      <th>0</th>\n",
       "      <td>1</td>\n",
       "      <td>0</td>\n",
       "      <td>3</td>\n",
       "      <td>Braund, Mr. Owen Harris</td>\n",
       "      <td>male</td>\n",
       "      <td>22.0</td>\n",
       "      <td>1</td>\n",
       "      <td>0</td>\n",
       "      <td>A/5 21171</td>\n",
       "      <td>7.2500</td>\n",
       "      <td>NaN</td>\n",
       "      <td>S</td>\n",
       "    </tr>\n",
       "    <tr>\n",
       "      <th>1</th>\n",
       "      <td>2</td>\n",
       "      <td>1</td>\n",
       "      <td>1</td>\n",
       "      <td>Cumings, Mrs. John Bradley (Florence Briggs Th...</td>\n",
       "      <td>female</td>\n",
       "      <td>38.0</td>\n",
       "      <td>1</td>\n",
       "      <td>0</td>\n",
       "      <td>PC 17599</td>\n",
       "      <td>71.2833</td>\n",
       "      <td>C85</td>\n",
       "      <td>C</td>\n",
       "    </tr>\n",
       "    <tr>\n",
       "      <th>2</th>\n",
       "      <td>3</td>\n",
       "      <td>1</td>\n",
       "      <td>3</td>\n",
       "      <td>Heikkinen, Miss. Laina</td>\n",
       "      <td>female</td>\n",
       "      <td>26.0</td>\n",
       "      <td>0</td>\n",
       "      <td>0</td>\n",
       "      <td>STON/O2. 3101282</td>\n",
       "      <td>7.9250</td>\n",
       "      <td>NaN</td>\n",
       "      <td>S</td>\n",
       "    </tr>\n",
       "    <tr>\n",
       "      <th>3</th>\n",
       "      <td>4</td>\n",
       "      <td>1</td>\n",
       "      <td>1</td>\n",
       "      <td>Futrelle, Mrs. Jacques Heath (Lily May Peel)</td>\n",
       "      <td>female</td>\n",
       "      <td>35.0</td>\n",
       "      <td>1</td>\n",
       "      <td>0</td>\n",
       "      <td>113803</td>\n",
       "      <td>53.1000</td>\n",
       "      <td>C123</td>\n",
       "      <td>S</td>\n",
       "    </tr>\n",
       "    <tr>\n",
       "      <th>4</th>\n",
       "      <td>5</td>\n",
       "      <td>0</td>\n",
       "      <td>3</td>\n",
       "      <td>Allen, Mr. William Henry</td>\n",
       "      <td>male</td>\n",
       "      <td>35.0</td>\n",
       "      <td>0</td>\n",
       "      <td>0</td>\n",
       "      <td>373450</td>\n",
       "      <td>8.0500</td>\n",
       "      <td>NaN</td>\n",
       "      <td>S</td>\n",
       "    </tr>\n",
       "  </tbody>\n",
       "</table>\n",
       "</div>"
      ],
      "text/plain": [
       "   PassengerId  Survived  Pclass  \\\n",
       "0            1         0       3   \n",
       "1            2         1       1   \n",
       "2            3         1       3   \n",
       "3            4         1       1   \n",
       "4            5         0       3   \n",
       "\n",
       "                                                Name     Sex   Age  SibSp  \\\n",
       "0                            Braund, Mr. Owen Harris    male  22.0      1   \n",
       "1  Cumings, Mrs. John Bradley (Florence Briggs Th...  female  38.0      1   \n",
       "2                             Heikkinen, Miss. Laina  female  26.0      0   \n",
       "3       Futrelle, Mrs. Jacques Heath (Lily May Peel)  female  35.0      1   \n",
       "4                           Allen, Mr. William Henry    male  35.0      0   \n",
       "\n",
       "   Parch            Ticket     Fare Cabin Embarked  \n",
       "0      0         A/5 21171   7.2500   NaN        S  \n",
       "1      0          PC 17599  71.2833   C85        C  \n",
       "2      0  STON/O2. 3101282   7.9250   NaN        S  \n",
       "3      0            113803  53.1000  C123        S  \n",
       "4      0            373450   8.0500   NaN        S  "
      ]
     },
     "execution_count": 3,
     "metadata": {},
     "output_type": "execute_result"
    }
   ],
   "source": [
    "#Überblick I Datenset\n",
    "df.head()"
   ]
  },
  {
   "cell_type": "markdown",
   "id": "ad17a129",
   "metadata": {
    "papermill": {
     "duration": 0.00423,
     "end_time": "2023-02-01T21:15:59.344347",
     "exception": false,
     "start_time": "2023-02-01T21:15:59.340117",
     "status": "completed"
    },
    "tags": []
   },
   "source": [
    "Um den Umfang einfach zu halten, werden die Klasse (Pclass), Sex und Age als Features genutzt, um das Label (Survived) zu bestimmen."
   ]
  },
  {
   "cell_type": "code",
   "execution_count": 4,
   "id": "da576b10",
   "metadata": {
    "execution": {
     "iopub.execute_input": "2023-02-01T21:15:59.356135Z",
     "iopub.status.busy": "2023-02-01T21:15:59.355292Z",
     "iopub.status.idle": "2023-02-01T21:15:59.385493Z",
     "shell.execute_reply": "2023-02-01T21:15:59.384143Z"
    },
    "papermill": {
     "duration": 0.038853,
     "end_time": "2023-02-01T21:15:59.388095",
     "exception": false,
     "start_time": "2023-02-01T21:15:59.349242",
     "status": "completed"
    },
    "tags": []
   },
   "outputs": [
    {
     "name": "stdout",
     "output_type": "stream",
     "text": [
      "<class 'pandas.core.frame.DataFrame'>\n",
      "RangeIndex: 891 entries, 0 to 890\n",
      "Data columns (total 12 columns):\n",
      " #   Column       Non-Null Count  Dtype  \n",
      "---  ------       --------------  -----  \n",
      " 0   PassengerId  891 non-null    int64  \n",
      " 1   Survived     891 non-null    int64  \n",
      " 2   Pclass       891 non-null    int64  \n",
      " 3   Name         891 non-null    object \n",
      " 4   Sex          891 non-null    object \n",
      " 5   Age          714 non-null    float64\n",
      " 6   SibSp        891 non-null    int64  \n",
      " 7   Parch        891 non-null    int64  \n",
      " 8   Ticket       891 non-null    object \n",
      " 9   Fare         891 non-null    float64\n",
      " 10  Cabin        204 non-null    object \n",
      " 11  Embarked     889 non-null    object \n",
      "dtypes: float64(2), int64(5), object(5)\n",
      "memory usage: 83.7+ KB\n"
     ]
    }
   ],
   "source": [
    "#Überlick II Dataset\n",
    "df.info()"
   ]
  },
  {
   "cell_type": "code",
   "execution_count": 5,
   "id": "6219e257",
   "metadata": {
    "execution": {
     "iopub.execute_input": "2023-02-01T21:15:59.399825Z",
     "iopub.status.busy": "2023-02-01T21:15:59.399382Z",
     "iopub.status.idle": "2023-02-01T21:15:59.405913Z",
     "shell.execute_reply": "2023-02-01T21:15:59.404658Z"
    },
    "papermill": {
     "duration": 0.015247,
     "end_time": "2023-02-01T21:15:59.408206",
     "exception": false,
     "start_time": "2023-02-01T21:15:59.392959",
     "status": "completed"
    },
    "tags": []
   },
   "outputs": [],
   "source": [
    "#NaN-Values von Age werden ersetzt durch das Durchschnittsalter\n",
    "df.Age.fillna(round(df.Age.mean()), inplace= True)"
   ]
  },
  {
   "cell_type": "code",
   "execution_count": 6,
   "id": "d6d68030",
   "metadata": {
    "execution": {
     "iopub.execute_input": "2023-02-01T21:15:59.420918Z",
     "iopub.status.busy": "2023-02-01T21:15:59.420183Z",
     "iopub.status.idle": "2023-02-01T21:15:59.433946Z",
     "shell.execute_reply": "2023-02-01T21:15:59.432142Z"
    },
    "papermill": {
     "duration": 0.023261,
     "end_time": "2023-02-01T21:15:59.436848",
     "exception": false,
     "start_time": "2023-02-01T21:15:59.413587",
     "status": "completed"
    },
    "tags": []
   },
   "outputs": [
    {
     "name": "stdout",
     "output_type": "stream",
     "text": [
      "<class 'pandas.core.frame.DataFrame'>\n",
      "RangeIndex: 891 entries, 0 to 890\n",
      "Data columns (total 12 columns):\n",
      " #   Column       Non-Null Count  Dtype  \n",
      "---  ------       --------------  -----  \n",
      " 0   PassengerId  891 non-null    int64  \n",
      " 1   Survived     891 non-null    int64  \n",
      " 2   Pclass       891 non-null    int64  \n",
      " 3   Name         891 non-null    object \n",
      " 4   Sex          891 non-null    object \n",
      " 5   Age          891 non-null    float64\n",
      " 6   SibSp        891 non-null    int64  \n",
      " 7   Parch        891 non-null    int64  \n",
      " 8   Ticket       891 non-null    object \n",
      " 9   Fare         891 non-null    float64\n",
      " 10  Cabin        204 non-null    object \n",
      " 11  Embarked     889 non-null    object \n",
      "dtypes: float64(2), int64(5), object(5)\n",
      "memory usage: 83.7+ KB\n"
     ]
    }
   ],
   "source": [
    "#Check\n",
    "df.info()"
   ]
  },
  {
   "cell_type": "code",
   "execution_count": 7,
   "id": "bac88656",
   "metadata": {
    "execution": {
     "iopub.execute_input": "2023-02-01T21:15:59.449777Z",
     "iopub.status.busy": "2023-02-01T21:15:59.449345Z",
     "iopub.status.idle": "2023-02-01T21:15:59.453544Z",
     "shell.execute_reply": "2023-02-01T21:15:59.452543Z"
    },
    "papermill": {
     "duration": 0.013746,
     "end_time": "2023-02-01T21:15:59.456067",
     "exception": false,
     "start_time": "2023-02-01T21:15:59.442321",
     "status": "completed"
    },
    "tags": []
   },
   "outputs": [],
   "source": [
    "#String-Encoding von Feature \"Sex\"\n",
    "#df.Sex.replace({\"male\": 0, \"female\": 1}, inplace = True)"
   ]
  },
  {
   "cell_type": "code",
   "execution_count": 8,
   "id": "2168d54c",
   "metadata": {
    "execution": {
     "iopub.execute_input": "2023-02-01T21:15:59.468550Z",
     "iopub.status.busy": "2023-02-01T21:15:59.467839Z",
     "iopub.status.idle": "2023-02-01T21:16:00.696407Z",
     "shell.execute_reply": "2023-02-01T21:16:00.695195Z"
    },
    "papermill": {
     "duration": 1.237698,
     "end_time": "2023-02-01T21:16:00.699180",
     "exception": false,
     "start_time": "2023-02-01T21:15:59.461482",
     "status": "completed"
    },
    "tags": []
   },
   "outputs": [],
   "source": [
    "# Import LabelEncoder\n",
    "from sklearn import preprocessing\n",
    "#creating labelEncoder\n",
    "le = preprocessing.LabelEncoder()\n",
    "# Converting string labels into numbers.\n",
    "Sex_encoded=le.fit_transform(df.Sex)\n",
    "df[\"Sex_en\"] = Sex_encoded"
   ]
  },
  {
   "cell_type": "code",
   "execution_count": 9,
   "id": "4807ba85",
   "metadata": {
    "execution": {
     "iopub.execute_input": "2023-02-01T21:16:00.711403Z",
     "iopub.status.busy": "2023-02-01T21:16:00.710848Z",
     "iopub.status.idle": "2023-02-01T21:16:00.786643Z",
     "shell.execute_reply": "2023-02-01T21:16:00.785196Z"
    },
    "papermill": {
     "duration": 0.085378,
     "end_time": "2023-02-01T21:16:00.789599",
     "exception": false,
     "start_time": "2023-02-01T21:16:00.704221",
     "status": "completed"
    },
    "tags": []
   },
   "outputs": [],
   "source": [
    "# Import train_test_split function\n",
    "from sklearn.model_selection import train_test_split\n",
    "\n",
    "# Split dataset into training set and test set\n",
    "X_train, X_test, y_train, y_test = train_test_split(df[[\"Sex_en\",\"Age\",\"Pclass\"]] ,df[[\"Survived\"]], test_size=0.3,random_state=23) "
   ]
  },
  {
   "cell_type": "code",
   "execution_count": 10,
   "id": "ade1229c",
   "metadata": {
    "execution": {
     "iopub.execute_input": "2023-02-01T21:16:00.802290Z",
     "iopub.status.busy": "2023-02-01T21:16:00.801064Z",
     "iopub.status.idle": "2023-02-01T21:16:00.815096Z",
     "shell.execute_reply": "2023-02-01T21:16:00.813681Z"
    },
    "papermill": {
     "duration": 0.023465,
     "end_time": "2023-02-01T21:16:00.817937",
     "exception": false,
     "start_time": "2023-02-01T21:16:00.794472",
     "status": "completed"
    },
    "tags": []
   },
   "outputs": [
    {
     "data": {
      "text/html": [
       "<div>\n",
       "<style scoped>\n",
       "    .dataframe tbody tr th:only-of-type {\n",
       "        vertical-align: middle;\n",
       "    }\n",
       "\n",
       "    .dataframe tbody tr th {\n",
       "        vertical-align: top;\n",
       "    }\n",
       "\n",
       "    .dataframe thead th {\n",
       "        text-align: right;\n",
       "    }\n",
       "</style>\n",
       "<table border=\"1\" class=\"dataframe\">\n",
       "  <thead>\n",
       "    <tr style=\"text-align: right;\">\n",
       "      <th></th>\n",
       "      <th>Sex_en</th>\n",
       "      <th>Age</th>\n",
       "      <th>Pclass</th>\n",
       "    </tr>\n",
       "  </thead>\n",
       "  <tbody>\n",
       "    <tr>\n",
       "      <th>387</th>\n",
       "      <td>0</td>\n",
       "      <td>36.0</td>\n",
       "      <td>2</td>\n",
       "    </tr>\n",
       "    <tr>\n",
       "      <th>603</th>\n",
       "      <td>1</td>\n",
       "      <td>44.0</td>\n",
       "      <td>3</td>\n",
       "    </tr>\n",
       "    <tr>\n",
       "      <th>691</th>\n",
       "      <td>0</td>\n",
       "      <td>4.0</td>\n",
       "      <td>3</td>\n",
       "    </tr>\n",
       "    <tr>\n",
       "      <th>202</th>\n",
       "      <td>1</td>\n",
       "      <td>34.0</td>\n",
       "      <td>3</td>\n",
       "    </tr>\n",
       "    <tr>\n",
       "      <th>280</th>\n",
       "      <td>1</td>\n",
       "      <td>65.0</td>\n",
       "      <td>3</td>\n",
       "    </tr>\n",
       "  </tbody>\n",
       "</table>\n",
       "</div>"
      ],
      "text/plain": [
       "     Sex_en   Age  Pclass\n",
       "387       0  36.0       2\n",
       "603       1  44.0       3\n",
       "691       0   4.0       3\n",
       "202       1  34.0       3\n",
       "280       1  65.0       3"
      ]
     },
     "execution_count": 10,
     "metadata": {},
     "output_type": "execute_result"
    }
   ],
   "source": [
    "X_train.head()"
   ]
  },
  {
   "cell_type": "code",
   "execution_count": 11,
   "id": "4fe9e387",
   "metadata": {
    "execution": {
     "iopub.execute_input": "2023-02-01T21:16:00.830208Z",
     "iopub.status.busy": "2023-02-01T21:16:00.829809Z",
     "iopub.status.idle": "2023-02-01T21:16:00.848365Z",
     "shell.execute_reply": "2023-02-01T21:16:00.845912Z"
    },
    "papermill": {
     "duration": 0.027806,
     "end_time": "2023-02-01T21:16:00.850976",
     "exception": false,
     "start_time": "2023-02-01T21:16:00.823170",
     "status": "completed"
    },
    "tags": []
   },
   "outputs": [
    {
     "name": "stderr",
     "output_type": "stream",
     "text": [
      "/opt/conda/lib/python3.7/site-packages/sklearn/utils/validation.py:993: DataConversionWarning: A column-vector y was passed when a 1d array was expected. Please change the shape of y to (n_samples, ), for example using ravel().\n",
      "  y = column_or_1d(y, warn=True)\n"
     ]
    }
   ],
   "source": [
    "#Import Gaussian Naive Bayes model\n",
    "from sklearn.naive_bayes import GaussianNB\n",
    "\n",
    "#Create a Gaussian Classifier\n",
    "gnb = GaussianNB()\n",
    "\n",
    "#Train the model using the training sets\n",
    "gnb.fit(X_train, y_train)\n",
    "\n",
    "#Predict the response for test dataset\n",
    "y_pred = gnb.predict(X_test)"
   ]
  },
  {
   "cell_type": "code",
   "execution_count": 12,
   "id": "d47f6c3d",
   "metadata": {
    "execution": {
     "iopub.execute_input": "2023-02-01T21:16:00.863108Z",
     "iopub.status.busy": "2023-02-01T21:16:00.862652Z",
     "iopub.status.idle": "2023-02-01T21:16:00.870435Z",
     "shell.execute_reply": "2023-02-01T21:16:00.869181Z"
    },
    "papermill": {
     "duration": 0.017158,
     "end_time": "2023-02-01T21:16:00.873275",
     "exception": false,
     "start_time": "2023-02-01T21:16:00.856117",
     "status": "completed"
    },
    "tags": []
   },
   "outputs": [
    {
     "name": "stdout",
     "output_type": "stream",
     "text": [
      "Accuracy: 0.7910447761194029\n"
     ]
    }
   ],
   "source": [
    "#Import scikit-learn metrics module for accuracy calculation\n",
    "from sklearn import metrics\n",
    "\n",
    "# Model Accuracy, how often is the classifier correct?\n",
    "print(\"Accuracy:\",metrics.accuracy_score(y_test, y_pred))"
   ]
  },
  {
   "cell_type": "markdown",
   "id": "d3d5713c",
   "metadata": {
    "papermill": {
     "duration": 0.004878,
     "end_time": "2023-02-01T21:16:00.883481",
     "exception": false,
     "start_time": "2023-02-01T21:16:00.878603",
     "status": "completed"
    },
    "tags": []
   },
   "source": [
    "Mit einer Genauigkeit von 79.1% für einen einfachen Naive Bayes, lediglich basierend auf dem Alter, dem Geschlechts und der Kabinenklasse eines Passagieres, bin ich sehr zufrieden mit dem Resultat! "
   ]
  }
 ],
 "metadata": {
  "kernelspec": {
   "display_name": "Python 3",
   "language": "python",
   "name": "python3"
  },
  "language_info": {
   "codemirror_mode": {
    "name": "ipython",
    "version": 3
   },
   "file_extension": ".py",
   "mimetype": "text/x-python",
   "name": "python",
   "nbconvert_exporter": "python",
   "pygments_lexer": "ipython3",
   "version": "3.7.12"
  },
  "papermill": {
   "default_parameters": {},
   "duration": 11.835789,
   "end_time": "2023-02-01T21:16:01.611340",
   "environment_variables": {},
   "exception": null,
   "input_path": "__notebook__.ipynb",
   "output_path": "__notebook__.ipynb",
   "parameters": {},
   "start_time": "2023-02-01T21:15:49.775551",
   "version": "2.3.4"
  }
 },
 "nbformat": 4,
 "nbformat_minor": 5
}
